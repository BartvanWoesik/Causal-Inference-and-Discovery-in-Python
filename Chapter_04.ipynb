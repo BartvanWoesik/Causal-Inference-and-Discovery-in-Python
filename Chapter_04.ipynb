{
 "cells": [
  {
   "cell_type": "code",
   "execution_count": null,
   "id": "d885824b",
   "metadata": {},
   "outputs": [],
   "source": [
    "import numpy as np\n",
    "from scipy import stats\n",
    "\n",
    "import matplotlib.pyplot as plt\n",
    "plt.style.use('fivethirtyeight')\n",
    "\n",
    "import graphviz"
   ]
  },
  {
   "cell_type": "code",
   "execution_count": null,
   "id": "7a2494ed",
   "metadata": {},
   "outputs": [],
   "source": [
    "COLORS = [\n",
    "    '#00B0F0',\n",
    "    '#FF0000'\n",
    "]"
   ]
  },
  {
   "cell_type": "markdown",
   "id": "a0fd06fd",
   "metadata": {},
   "source": [
    "# Chapter 04\n",
    "\n",
    "In this chapter we focus on graphical models for causal inference. We start with a refresher on graphs. Next, we introduce a concept of graphical models and directed  acyclic graphs. Finally, we discuss the limitations of DAGs and show a couple of different approaches to model cyclic relationships. This and next chapter are critical to understand the very essence of causal inference as understood in this book."
   ]
  },
  {
   "cell_type": "markdown",
   "id": "663cd1b3",
   "metadata": {},
   "source": [
    "## Visualizations"
   ]
  },
  {
   "cell_type": "code",
   "execution_count": null,
   "id": "15ce38f8",
   "metadata": {},
   "outputs": [],
   "source": [
    "nodes = ['A', 'B', 'C', 'D']"
   ]
  },
  {
   "cell_type": "code",
   "execution_count": null,
   "id": "8464768d",
   "metadata": {},
   "outputs": [],
   "source": [
    "# Define graphs\n",
    "graphs = {\n",
    "    \n",
    "    'DAG': {\n",
    "        'graph': graphviz.Digraph(format='png'),\n",
    "        'edges': ['AB', 'BC', 'AD', 'DC']\n",
    "    },\n",
    "    \n",
    "    'DCG': {\n",
    "        'graph': graphviz.Digraph(format='png'),\n",
    "        'edges': ['AB', 'AD', 'BB', 'BC', 'DC', 'CA']\n",
    "    },\n",
    "    \n",
    "    'Undirected': {\n",
    "        'graph': graphviz.Graph(format='png'),\n",
    "        'edges': ['AB', 'BC', 'AD', 'DC']\n",
    "    }, \n",
    "    \n",
    "    'Fully connected': {\n",
    "        'graph': graphviz.Graph(format='png'),\n",
    "        'edges': ['AB', 'AC', 'AD', 'BC', 'BD', 'CD']\n",
    "    },\n",
    "    \n",
    "    'Partially connected': {\n",
    "        'graph': graphviz.Graph(format='png'),\n",
    "        'edges': ['AB', 'AC', 'BC']\n",
    "    }\n",
    "}\n",
    "\n",
    "\n",
    "# Iterate over graphs and render\n",
    "for name, graph in graphs.items():\n",
    "    \n",
    "    [graph['graph'].node(n) for n in nodes]\n",
    "    graph['graph'].edges(graph['edges'])\n",
    "    \n",
    "    graph['graph'].render(f'img/ch_04_graph_{name}')"
   ]
  },
  {
   "cell_type": "markdown",
   "id": "cf7a9b51",
   "metadata": {},
   "source": [
    "### Adjacency matrices"
   ]
  },
  {
   "cell_type": "markdown",
   "id": "a71199eb",
   "metadata": {},
   "source": [
    "$$\\Large \\begin{bmatrix} 0 & 1 \\\\ 0 & 0 \\end{bmatrix}$$"
   ]
  },
  {
   "cell_type": "code",
   "execution_count": null,
   "id": "321fb278",
   "metadata": {},
   "outputs": [],
   "source": [
    "graph = graphviz.Digraph(format='png')\n",
    "\n",
    "nodes = ['0', '1']\n",
    "\n",
    "edges = ['01']\n",
    "\n",
    "[graph.node(n) for n in nodes]\n",
    "graph.edges(edges)\n",
    "\n",
    "graph.render(f'img/ch_04_graph_adj_00')\n",
    "\n",
    "graph"
   ]
  },
  {
   "cell_type": "markdown",
   "id": "f1ed97e7",
   "metadata": {},
   "source": [
    "$$\\Large \\begin{bmatrix} 0 & 1 & 0 \\\\ 0 & 0 & 0 \\\\ 1 & 1 & 0 \\end{bmatrix}$$"
   ]
  },
  {
   "cell_type": "code",
   "execution_count": null,
   "id": "a560bf46",
   "metadata": {},
   "outputs": [],
   "source": [
    "graph = graphviz.Digraph(format='png')\n",
    "\n",
    "nodes = ['0', '1', '2']\n",
    "\n",
    "edges = ['01', '21', '20']\n",
    "\n",
    "[graph.node(n) for n in nodes]\n",
    "graph.edges(edges)\n",
    "\n",
    "graph.render(f'img/ch_04_graph_adj_01')\n",
    "\n",
    "graph"
   ]
  },
  {
   "cell_type": "markdown",
   "id": "6ceb195a",
   "metadata": {},
   "source": [
    "$$\\Large \\begin{bmatrix} 0 & 0 & 1 & 0 \\\\ 0 & 0 & 0 & 1 \\\\ 0 & 0 & 0 & 0 \\\\ 1 & 0 & 1 & 0 \\end{bmatrix}$$"
   ]
  },
  {
   "cell_type": "code",
   "execution_count": null,
   "id": "1670337b",
   "metadata": {},
   "outputs": [],
   "source": [
    "graph = graphviz.Digraph(format='png')\n",
    "\n",
    "nodes = ['0', '1', '2', '3']\n",
    "\n",
    "edges = ['02', '13', '32', '30']\n",
    "\n",
    "[graph.node(n) for n in nodes]\n",
    "graph.edges(edges)\n",
    "\n",
    "graph.render(f'img/ch_04_graph_adj_02')\n",
    "\n",
    "graph"
   ]
  },
  {
   "cell_type": "markdown",
   "id": "6f6e3dc0",
   "metadata": {},
   "source": [
    "## Graphs in Python "
   ]
  },
  {
   "cell_type": "code",
   "execution_count": null,
   "id": "31bd9f08",
   "metadata": {},
   "outputs": [],
   "source": [
    "import networkx as nx"
   ]
  },
  {
   "cell_type": "markdown",
   "id": "015289ac",
   "metadata": {},
   "source": [
    "### Edge list"
   ]
  },
  {
   "cell_type": "markdown",
   "id": "fe0b4f0c",
   "metadata": {},
   "source": [
    "### GML \n",
    "\n",
    "**GML** stands for graph modeling language. \n",
    "\n",
    "More on **GML** synatx here: https://github.com/GunterMueller/UNI_PASSAU_FMI_Graph_Drawing/blob/master/GML/gml-technical-report.pdf"
   ]
  },
  {
   "cell_type": "code",
   "execution_count": null,
   "id": "d6c36c7f",
   "metadata": {},
   "outputs": [],
   "source": [
    "# Define the graph\n",
    "sample_gml = \"\"\"graph [\n",
    "directed 1\n",
    "\n",
    "node [\n",
    "    id 0\n",
    "    label \"0\"\n",
    "    ]\n",
    "\n",
    "node [\n",
    "    id 1\n",
    "    label \"1\"\n",
    "    ]\n",
    "    \n",
    "node [\n",
    "    id 2\n",
    "    label \"2\"\n",
    "    ]\n",
    "\n",
    "\n",
    "edge [\n",
    "    source 0\n",
    "    target 1\n",
    "    ]\n",
    "    \n",
    "edge [\n",
    "    source 2\n",
    "    target 1\n",
    "    ]\n",
    "]\n",
    "    \n",
    "    \"\"\""
   ]
  },
  {
   "cell_type": "code",
   "execution_count": null,
   "id": "b19833ce",
   "metadata": {},
   "outputs": [],
   "source": [
    "# Get the graph\n",
    "graph = nx.parse_gml(sample_gml)\n",
    "\n",
    "# Plot\n",
    "nx.draw(\n",
    "    G=graph, \n",
    "    with_labels=True,\n",
    "    node_size=2500,\n",
    "    node_color=COLORS[0],\n",
    "    font_color='white'\n",
    ")"
   ]
  },
  {
   "cell_type": "markdown",
   "id": "07c497d3",
   "metadata": {},
   "source": [
    "### Adjacency matrix"
   ]
  },
  {
   "cell_type": "code",
   "execution_count": null,
   "id": "ed2b1dbc",
   "metadata": {},
   "outputs": [],
   "source": [
    "# Define the matrix\n",
    "adj_matrix = np.array([\n",
    "    [0, 1, 0],\n",
    "    [0, 0, 0],\n",
    "    [0, 1, 0]\n",
    "])"
   ]
  },
  {
   "cell_type": "code",
   "execution_count": null,
   "id": "bb1d9b04",
   "metadata": {
    "scrolled": true
   },
   "outputs": [],
   "source": [
    "# Get the graph\n",
    "graph = nx.from_numpy_array(adj_matrix, create_using=nx.DiGraph)\n",
    "\n",
    "# Plot\n",
    "nx.draw(\n",
    "    G=graph, \n",
    "    with_labels=True,\n",
    "    node_size=2500,\n",
    "    node_color=COLORS[0],\n",
    "    font_color='white'\n",
    ")"
   ]
  },
  {
   "cell_type": "code",
   "execution_count": null,
   "id": "1faf022e",
   "metadata": {},
   "outputs": [],
   "source": [
    "# Define the matrix\n",
    "adj_matrix = np.array([\n",
    "    [0, 1, 0, 1, 0, 1],\n",
    "    [0, 0, 0, 0, 0, 0],\n",
    "    [0, 0, 0, 0, 1, 0],\n",
    "    [0, 0, 1, 0, 0, 0],\n",
    "    [0, 0, 0, 0, 0, 1],\n",
    "    [0, 0, 0, 0, 0, 0],\n",
    "])\n",
    "\n",
    "# Get the graph\n",
    "graph = nx.from_numpy_array(adj_matrix, create_using=nx.DiGraph)\n",
    "\n",
    "# Plot\n",
    "nx.draw(\n",
    "    G=graph, \n",
    "    with_labels=True,\n",
    "    node_size=2000,\n",
    "    node_color=COLORS[0],\n",
    "    font_color='white',\n",
    "    pos=nx.planar_layout(graph)\n",
    ")"
   ]
  }
 ],
 "metadata": {
  "kernelspec": {
   "display_name": "Python [conda env:causal_book_py38]",
   "language": "python",
   "name": "conda-env-causal_book_py38-py"
  },
  "language_info": {
   "codemirror_mode": {
    "name": "ipython",
    "version": 3
   },
   "file_extension": ".py",
   "mimetype": "text/x-python",
   "name": "python",
   "nbconvert_exporter": "python",
   "pygments_lexer": "ipython3",
   "version": "3.8.13"
  }
 },
 "nbformat": 4,
 "nbformat_minor": 5
}
